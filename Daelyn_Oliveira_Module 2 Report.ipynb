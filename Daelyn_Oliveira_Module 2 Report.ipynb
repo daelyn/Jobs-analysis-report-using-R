{
 "cells": [
  {
   "cell_type": "markdown",
   "metadata": {},
   "source": [
    "# <font color = red > _Daelyn Oliveira_ <font>"
   ]
  },
  {
   "cell_type": "markdown",
   "metadata": {},
   "source": [
    "## <font color = blue > _Module 2 Report<font> -<font color = blue> Jobs_ <font>"
   ]
  },
  {
   "cell_type": "markdown",
   "metadata": {},
   "source": [
    "## 1. Objective of the Proposed Research <br>"
   ]
  },
  {
   "cell_type": "markdown",
   "metadata": {},
   "source": [
    "According to Business Insider the cost of living in San Francisco is 62.6% higher than the US average. The main factors that affect the cost of living are income and housing. An average monthly salary for a family of 4 to live comfortably in San Francisco is around $12,370.  <br>\n",
    "\n",
    "The San Francisco Chronicle newspaper is conducting an analysis of cost of living in San Francisco city. A database of the salary and benefits paid to City employees is maintained by The San Francisco Controller's Office since fiscal year 2013. We will analyse this data available and the result will be published as a main page artilce next month. <br>\n",
    "\n",
    "We will analyse the different salaries given to different departments, job types and also the health and dental insurance plans whether covered or not, other additional payments given to employees, benefits and also overtimes of the different job types. \n"
   ]
  },
  {
   "cell_type": "markdown",
   "metadata": {},
   "source": [
    "## 2. Data Exploration"
   ]
  },
  {
   "cell_type": "markdown",
   "metadata": {},
   "source": [
    "We first import the data in csv format and also strings aren't converted to factors. "
   ]
  },
  {
   "cell_type": "code",
   "execution_count": 1,
   "metadata": {},
   "outputs": [],
   "source": [
    "jobs <- read.csv(\"employee-compensation.csv\", stringsAsFactors = F)"
   ]
  },
  {
   "cell_type": "markdown",
   "metadata": {},
   "source": [
    "The below code shows the first 5 rows of the dataset. "
   ]
  },
  {
   "cell_type": "code",
   "execution_count": 2,
   "metadata": {},
   "outputs": [
    {
     "data": {
      "text/html": [
       "<table>\n",
       "<thead><tr><th scope=col>Year.Type</th><th scope=col>Year</th><th scope=col>Organization.Group.Code</th><th scope=col>Organization.Group</th><th scope=col>Department.Code</th><th scope=col>Department</th><th scope=col>Union.Code</th><th scope=col>Union</th><th scope=col>Job.Family.Code</th><th scope=col>Job.Family</th><th scope=col>...</th><th scope=col>Employee.Identifier</th><th scope=col>Salaries</th><th scope=col>Overtime</th><th scope=col>Other.Salaries</th><th scope=col>Total.Salary</th><th scope=col>Retirement</th><th scope=col>Health.and.Dental</th><th scope=col>Other.Benefits</th><th scope=col>Total.Benefits</th><th scope=col>Total.Compensation</th></tr></thead>\n",
       "<tbody>\n",
       "\t<tr><td>Calendar                      </td><td>2028                          </td><td>7                             </td><td>General City Responsibilities </td><td>229259                        </td><td>                              </td><td>792                           </td><td>Utd Pub EmpL790 SEIU-Crt Clrks</td><td>0000                          </td><td>Untitled                      </td><td>...                           </td><td>8540990                       </td><td>   674.28                     </td><td>     0.0                      </td><td>   5.76                       </td><td>   680.04                     </td><td>  130.91                      </td><td>    0.00                      </td><td>   53.86                      </td><td>  184.77                      </td><td>   864.81                     </td></tr>\n",
       "\t<tr><td>Calendar                      </td><td>2028                          </td><td>1                             </td><td>Public Protection             </td><td>CRT                           </td><td>                              </td><td>792                           </td><td>Utd Pub EmpL790 SEIU-Crt Clrks</td><td>0000                          </td><td>Untitled                      </td><td>...                           </td><td>8540990                       </td><td>   674.28                     </td><td>     0.0                      </td><td>   5.76                       </td><td>   680.04                     </td><td>  130.91                      </td><td>    0.00                      </td><td>   53.86                      </td><td>  184.77                      </td><td>   864.81                     </td></tr>\n",
       "\t<tr><td>Fiscal                        </td><td>2028                          </td><td>1                             </td><td>Public Protection             </td><td>CRT                           </td><td>                              </td><td>792                           </td><td>Utd Pub EmpL790 SEIU-Crt Clrks</td><td>0000                          </td><td>Untitled                      </td><td>...                           </td><td>8540990                       </td><td>   674.28                     </td><td>     0.0                      </td><td>   5.76                       </td><td>   680.04                     </td><td>  130.91                      </td><td>    0.00                      </td><td>   53.86                      </td><td>  184.77                      </td><td>   864.81                     </td></tr>\n",
       "\t<tr><td>Calendar                      </td><td>2019                          </td><td>7                             </td><td>General City Responsibilities </td><td>232108                        </td><td>                              </td><td>911                           </td><td>POA                           </td><td>Q000                          </td><td>Police Services               </td><td>...                           </td><td>8577148                       </td><td>124709.01                     </td><td>100499.6                      </td><td>5501.78                       </td><td>230710.41                     </td><td>23271.86                      </td><td>14293.60                      </td><td> 3934.00                      </td><td>55975.56                      </td><td>286685.97                     </td></tr>\n",
       "\t<tr><td>Calendar                                                              </td><td>2019                                                                  </td><td>1                                                                     </td><td><span style=white-space:pre-wrap>Public Protection            </span> </td><td><span style=white-space:pre-wrap>DAT   </span>                        </td><td>                                                                      </td><td>311                                                                   </td><td><span style=white-space:pre-wrap>Municipal Attorneys Assoc     </span></td><td>8100                                                                  </td><td><span style=white-space:pre-wrap>Legal &amp; Court  </span>           </td><td>...                                                                   </td><td>8603109                                                               </td><td>155489.01                                                             </td><td><span style=white-space:pre-wrap>     0.0</span>                      </td><td>1500.00                                                               </td><td>156989.01                                                             </td><td>29239.75                                                              </td><td>14308.46                                                              </td><td>11100.60                                                              </td><td>69326.83                                                              </td><td>226315.84                                                             </td></tr>\n",
       "</tbody>\n",
       "</table>\n"
      ],
      "text/latex": [
       "\\begin{tabular}{r|llllllllllllllllllllll}\n",
       " Year.Type & Year & Organization.Group.Code & Organization.Group & Department.Code & Department & Union.Code & Union & Job.Family.Code & Job.Family & ... & Employee.Identifier & Salaries & Overtime & Other.Salaries & Total.Salary & Retirement & Health.and.Dental & Other.Benefits & Total.Benefits & Total.Compensation\\\\\n",
       "\\hline\n",
       "\t Calendar                       & 2028                           & 7                              & General City Responsibilities  & 229259                         &                                & 792                            & Utd Pub EmpL790 SEIU-Crt Clrks & 0000                           & Untitled                       & ...                            & 8540990                        &    674.28                      &      0.0                       &    5.76                        &    680.04                      &   130.91                       &     0.00                       &    53.86                       &   184.77                       &    864.81                     \\\\\n",
       "\t Calendar                       & 2028                           & 1                              & Public Protection              & CRT                            &                                & 792                            & Utd Pub EmpL790 SEIU-Crt Clrks & 0000                           & Untitled                       & ...                            & 8540990                        &    674.28                      &      0.0                       &    5.76                        &    680.04                      &   130.91                       &     0.00                       &    53.86                       &   184.77                       &    864.81                     \\\\\n",
       "\t Fiscal                         & 2028                           & 1                              & Public Protection              & CRT                            &                                & 792                            & Utd Pub EmpL790 SEIU-Crt Clrks & 0000                           & Untitled                       & ...                            & 8540990                        &    674.28                      &      0.0                       &    5.76                        &    680.04                      &   130.91                       &     0.00                       &    53.86                       &   184.77                       &    864.81                     \\\\\n",
       "\t Calendar                       & 2019                           & 7                              & General City Responsibilities  & 232108                         &                                & 911                            & POA                            & Q000                           & Police Services                & ...                            & 8577148                        & 124709.01                      & 100499.6                       & 5501.78                        & 230710.41                      & 23271.86                       & 14293.60                       &  3934.00                       & 55975.56                       & 286685.97                     \\\\\n",
       "\t Calendar                       & 2019                           & 1                              & Public Protection              & DAT                            &                                & 311                            & Municipal Attorneys Assoc      & 8100                           & Legal \\& Court                & ...                            & 8603109                        & 155489.01                      &      0.0                       & 1500.00                        & 156989.01                      & 29239.75                       & 14308.46                       & 11100.60                       & 69326.83                       & 226315.84                     \\\\\n",
       "\\end{tabular}\n"
      ],
      "text/markdown": [
       "\n",
       "| Year.Type | Year | Organization.Group.Code | Organization.Group | Department.Code | Department | Union.Code | Union | Job.Family.Code | Job.Family | ... | Employee.Identifier | Salaries | Overtime | Other.Salaries | Total.Salary | Retirement | Health.and.Dental | Other.Benefits | Total.Benefits | Total.Compensation |\n",
       "|---|---|---|---|---|---|---|---|---|---|---|---|---|---|---|---|---|---|---|---|---|\n",
       "| Calendar                       | 2028                           | 7                              | General City Responsibilities  | 229259                         |                                | 792                            | Utd Pub EmpL790 SEIU-Crt Clrks | 0000                           | Untitled                       | ...                            | 8540990                        |    674.28                      |      0.0                       |    5.76                        |    680.04                      |   130.91                       |     0.00                       |    53.86                       |   184.77                       |    864.81                      |\n",
       "| Calendar                       | 2028                           | 1                              | Public Protection              | CRT                            |                                | 792                            | Utd Pub EmpL790 SEIU-Crt Clrks | 0000                           | Untitled                       | ...                            | 8540990                        |    674.28                      |      0.0                       |    5.76                        |    680.04                      |   130.91                       |     0.00                       |    53.86                       |   184.77                       |    864.81                      |\n",
       "| Fiscal                         | 2028                           | 1                              | Public Protection              | CRT                            |                                | 792                            | Utd Pub EmpL790 SEIU-Crt Clrks | 0000                           | Untitled                       | ...                            | 8540990                        |    674.28                      |      0.0                       |    5.76                        |    680.04                      |   130.91                       |     0.00                       |    53.86                       |   184.77                       |    864.81                      |\n",
       "| Calendar                       | 2019                           | 7                              | General City Responsibilities  | 232108                         |                                | 911                            | POA                            | Q000                           | Police Services                | ...                            | 8577148                        | 124709.01                      | 100499.6                       | 5501.78                        | 230710.41                      | 23271.86                       | 14293.60                       |  3934.00                       | 55975.56                       | 286685.97                      |\n",
       "| Calendar                       | 2019                           | 1                              | Public Protection              | DAT                            |                                | 311                            | Municipal Attorneys Assoc      | 8100                           | Legal & Court                  | ...                            | 8603109                        | 155489.01                      |      0.0                       | 1500.00                        | 156989.01                      | 29239.75                       | 14308.46                       | 11100.60                       | 69326.83                       | 226315.84                      |\n",
       "\n"
      ],
      "text/plain": [
       "  Year.Type Year Organization.Group.Code Organization.Group           \n",
       "1 Calendar  2028 7                       General City Responsibilities\n",
       "2 Calendar  2028 1                       Public Protection            \n",
       "3 Fiscal    2028 1                       Public Protection            \n",
       "4 Calendar  2019 7                       General City Responsibilities\n",
       "5 Calendar  2019 1                       Public Protection            \n",
       "  Department.Code Department Union.Code Union                         \n",
       "1 229259                     792        Utd Pub EmpL790 SEIU-Crt Clrks\n",
       "2 CRT                        792        Utd Pub EmpL790 SEIU-Crt Clrks\n",
       "3 CRT                        792        Utd Pub EmpL790 SEIU-Crt Clrks\n",
       "4 232108                     911        POA                           \n",
       "5 DAT                        311        Municipal Attorneys Assoc     \n",
       "  Job.Family.Code Job.Family      ... Employee.Identifier Salaries  Overtime\n",
       "1 0000            Untitled        ... 8540990                674.28      0.0\n",
       "2 0000            Untitled        ... 8540990                674.28      0.0\n",
       "3 0000            Untitled        ... 8540990                674.28      0.0\n",
       "4 Q000            Police Services ... 8577148             124709.01 100499.6\n",
       "5 8100            Legal & Court   ... 8603109             155489.01      0.0\n",
       "  Other.Salaries Total.Salary Retirement Health.and.Dental Other.Benefits\n",
       "1    5.76           680.04      130.91       0.00             53.86      \n",
       "2    5.76           680.04      130.91       0.00             53.86      \n",
       "3    5.76           680.04      130.91       0.00             53.86      \n",
       "4 5501.78        230710.41    23271.86   14293.60           3934.00      \n",
       "5 1500.00        156989.01    29239.75   14308.46          11100.60      \n",
       "  Total.Benefits Total.Compensation\n",
       "1   184.77          864.81         \n",
       "2   184.77          864.81         \n",
       "3   184.77          864.81         \n",
       "4 55975.56       286685.97         \n",
       "5 69326.83       226315.84         "
      ]
     },
     "metadata": {},
     "output_type": "display_data"
    }
   ],
   "source": [
    "head(jobs, n=5)"
   ]
  },
  {
   "cell_type": "markdown",
   "metadata": {},
   "source": [
    "The below code shows the bottom 5 rows of the dataset."
   ]
  },
  {
   "cell_type": "code",
   "execution_count": 3,
   "metadata": {},
   "outputs": [
    {
     "data": {
      "text/html": [
       "<table>\n",
       "<thead><tr><th></th><th scope=col>Year.Type</th><th scope=col>Year</th><th scope=col>Organization.Group.Code</th><th scope=col>Organization.Group</th><th scope=col>Department.Code</th><th scope=col>Department</th><th scope=col>Union.Code</th><th scope=col>Union</th><th scope=col>Job.Family.Code</th><th scope=col>Job.Family</th><th scope=col>...</th><th scope=col>Employee.Identifier</th><th scope=col>Salaries</th><th scope=col>Overtime</th><th scope=col>Other.Salaries</th><th scope=col>Total.Salary</th><th scope=col>Retirement</th><th scope=col>Health.and.Dental</th><th scope=col>Other.Benefits</th><th scope=col>Total.Benefits</th><th scope=col>Total.Compensation</th></tr></thead>\n",
       "<tbody>\n",
       "\t<tr><th scope=row>835303</th><td>Fiscal                                                                             </td><td>2013                                                                               </td><td>6                                                                                  </td><td><span style=white-space:pre-wrap>General Administration &amp; Finance       </span></td><td>ASR                                                                                </td><td><span style=white-space:pre-wrap>ASR Assessor / Recorder      </span>              </td><td>790                                                                                </td><td><span style=white-space:pre-wrap>SEIU - Miscellaneous, Local 1021  </span>         </td><td>4200                                                                               </td><td><span style=white-space:pre-wrap>Appraisal &amp; Taxation    </span>               </td><td>...                                                                                </td><td>48952                                                                              </td><td> 36053.00                                                                          </td><td>263.48                                                                             </td><td><span style=white-space:pre-wrap>  372.00</span>                                   </td><td> 36688.48                                                                          </td><td> 6633.07                                                                           </td><td> 7631.83                                                                           </td><td>3001.15                                                                            </td><td>17266.05                                                                           </td><td> 53954.53                                                                          </td></tr>\n",
       "\t<tr><th scope=row>835304</th><td>Fiscal                                                                             </td><td>2013                                                                               </td><td>5                                                                                  </td><td><span style=white-space:pre-wrap>Culture &amp; Recreation                   </span></td><td>REC                                                                                </td><td>REC Recreation &amp; Park Commsn                                                   </td><td>790                                                                                </td><td><span style=white-space:pre-wrap>SEIU - Miscellaneous, Local 1021  </span>         </td><td>2700                                                                               </td><td><span style=white-space:pre-wrap>Housekeeping &amp; Laundry  </span>               </td><td>...                                                                                </td><td>54963                                                                              </td><td> 53192.12                                                                          </td><td><span style=white-space:pre-wrap>  0.00</span>                                     </td><td><span style=white-space:pre-wrap>  467.16</span>                                   </td><td> 53659.28                                                                          </td><td> 9771.30                                                                           </td><td>12851.02                                                                           </td><td>4482.69                                                                            </td><td>27105.01                                                                           </td><td> 80764.29                                                                          </td></tr>\n",
       "\t<tr><th scope=row>835305</th><td>Fiscal                                                                    </td><td>2013                                                                      </td><td>2                                                                         </td><td>Public Works, Transportation &amp; Commerce                               </td><td>MTA                                                                       </td><td>MTA Municipal Transprtn Agncy                                             </td><td><span style=white-space:pre-wrap>  6</span>                               </td><td><span style=white-space:pre-wrap>Electrical Workers, Local 6       </span></td><td>7300                                                                      </td><td><span style=white-space:pre-wrap>Journeyman Trade        </span>          </td><td>...                                                                       </td><td>31177                                                                     </td><td> 65876.00                                                                 </td><td>997.34                                                                    </td><td>23411.95                                                                  </td><td> 90285.29                                                                 </td><td>13015.46                                                                  </td><td>10586.09                                                                  </td><td>7360.81                                                                   </td><td>30962.36                                                                  </td><td>121247.65                                                                 </td></tr>\n",
       "\t<tr><th scope=row>835306</th><td>Fiscal                                 </td><td>2013                                   </td><td>1                                      </td><td>Public Protection                      </td><td>POL                                    </td><td>POL Police                             </td><td>911                                    </td><td>Police Officers' Association           </td><td>Q000                                   </td><td>Police Services                        </td><td>...                                    </td><td>21887                                  </td><td>123487.27                              </td><td>  0.00                                 </td><td> 1060.04                               </td><td>124547.31                              </td><td>21999.44                               </td><td>11456.99                               </td><td>2113.86                                </td><td>35570.29                               </td><td>160117.60                              </td></tr>\n",
       "\t<tr><th scope=row>835307</th><td>Fiscal                                                               </td><td>2013                                                                 </td><td>2                                                                    </td><td>Public Works, Transportation &amp; Commerce                          </td><td>DBI                                                                  </td><td><span style=white-space:pre-wrap>DBI Building Inspection      </span></td><td> 38                                                                  </td><td>Plumbers and Pipefitters, Local 38                                   </td><td>6200                                                                 </td><td>Public Safety Inspection                                             </td><td>...                                                                  </td><td>40949                                                                </td><td>105742.01                                                            </td><td>315.20                                                               </td><td> 5288.35                                                             </td><td>111345.56                                                            </td><td>19663.52                                                             </td><td>12801.79                                                             </td><td>9283.02                                                              </td><td>41748.33                                                             </td><td>153093.89                                                            </td></tr>\n",
       "</tbody>\n",
       "</table>\n"
      ],
      "text/latex": [
       "\\begin{tabular}{r|llllllllllllllllllllll}\n",
       "  & Year.Type & Year & Organization.Group.Code & Organization.Group & Department.Code & Department & Union.Code & Union & Job.Family.Code & Job.Family & ... & Employee.Identifier & Salaries & Overtime & Other.Salaries & Total.Salary & Retirement & Health.and.Dental & Other.Benefits & Total.Benefits & Total.Compensation\\\\\n",
       "\\hline\n",
       "\t835303 & Fiscal                                    & 2013                                      & 6                                         & General Administration \\& Finance        & ASR                                       & ASR Assessor / Recorder                   & 790                                       & SEIU - Miscellaneous, Local 1021          & 4200                                      & Appraisal \\& Taxation                    & ...                                       & 48952                                     &  36053.00                                 & 263.48                                    &   372.00                                  &  36688.48                                 &  6633.07                                  &  7631.83                                  & 3001.15                                   & 17266.05                                  &  53954.53                                \\\\\n",
       "\t835304 & Fiscal                                    & 2013                                      & 5                                         & Culture \\& Recreation                    & REC                                       & REC Recreation \\& Park Commsn            & 790                                       & SEIU - Miscellaneous, Local 1021          & 2700                                      & Housekeeping \\& Laundry                  & ...                                       & 54963                                     &  53192.12                                 &   0.00                                    &   467.16                                  &  53659.28                                 &  9771.30                                  & 12851.02                                  & 4482.69                                   & 27105.01                                  &  80764.29                                \\\\\n",
       "\t835305 & Fiscal                                    & 2013                                      & 2                                         & Public Works, Transportation \\& Commerce & MTA                                       & MTA Municipal Transprtn Agncy             &   6                                       & Electrical Workers, Local 6               & 7300                                      & Journeyman Trade                          & ...                                       & 31177                                     &  65876.00                                 & 997.34                                    & 23411.95                                  &  90285.29                                 & 13015.46                                  & 10586.09                                  & 7360.81                                   & 30962.36                                  & 121247.65                                \\\\\n",
       "\t835306 & Fiscal                                  & 2013                                    & 1                                       & Public Protection                       & POL                                     & POL Police                              & 911                                     & Police Officers' Association            & Q000                                    & Police Services                         & ...                                     & 21887                                   & 123487.27                               &   0.00                                  &  1060.04                                & 124547.31                               & 21999.44                                & 11456.99                                & 2113.86                                 & 35570.29                                & 160117.60                              \\\\\n",
       "\t835307 & Fiscal                                    & 2013                                      & 2                                         & Public Works, Transportation \\& Commerce & DBI                                       & DBI Building Inspection                   &  38                                       & Plumbers and Pipefitters, Local 38        & 6200                                      & Public Safety Inspection                  & ...                                       & 40949                                     & 105742.01                                 & 315.20                                    &  5288.35                                  & 111345.56                                 & 19663.52                                  & 12801.79                                  & 9283.02                                   & 41748.33                                  & 153093.89                                \\\\\n",
       "\\end{tabular}\n"
      ],
      "text/markdown": [
       "\n",
       "| <!--/--> | Year.Type | Year | Organization.Group.Code | Organization.Group | Department.Code | Department | Union.Code | Union | Job.Family.Code | Job.Family | ... | Employee.Identifier | Salaries | Overtime | Other.Salaries | Total.Salary | Retirement | Health.and.Dental | Other.Benefits | Total.Benefits | Total.Compensation |\n",
       "|---|---|---|---|---|---|---|---|---|---|---|---|---|---|---|---|---|---|---|---|---|---|\n",
       "| 835303 | Fiscal                                  | 2013                                    | 6                                       | General Administration & Finance        | ASR                                     | ASR Assessor / Recorder                 | 790                                     | SEIU - Miscellaneous, Local 1021        | 4200                                    | Appraisal & Taxation                    | ...                                     | 48952                                   |  36053.00                               | 263.48                                  |   372.00                                |  36688.48                               |  6633.07                                |  7631.83                                | 3001.15                                 | 17266.05                                |  53954.53                               |\n",
       "| 835304 | Fiscal                                  | 2013                                    | 5                                       | Culture & Recreation                    | REC                                     | REC Recreation & Park Commsn            | 790                                     | SEIU - Miscellaneous, Local 1021        | 2700                                    | Housekeeping & Laundry                  | ...                                     | 54963                                   |  53192.12                               |   0.00                                  |   467.16                                |  53659.28                               |  9771.30                                | 12851.02                                | 4482.69                                 | 27105.01                                |  80764.29                               |\n",
       "| 835305 | Fiscal                                  | 2013                                    | 2                                       | Public Works, Transportation & Commerce | MTA                                     | MTA Municipal Transprtn Agncy           |   6                                     | Electrical Workers, Local 6             | 7300                                    | Journeyman Trade                        | ...                                     | 31177                                   |  65876.00                               | 997.34                                  | 23411.95                                |  90285.29                               | 13015.46                                | 10586.09                                | 7360.81                                 | 30962.36                                | 121247.65                               |\n",
       "| 835306 | Fiscal                                  | 2013                                    | 1                                       | Public Protection                       | POL                                     | POL Police                              | 911                                     | Police Officers' Association            | Q000                                    | Police Services                         | ...                                     | 21887                                   | 123487.27                               |   0.00                                  |  1060.04                                | 124547.31                               | 21999.44                                | 11456.99                                | 2113.86                                 | 35570.29                                | 160117.60                               |\n",
       "| 835307 | Fiscal                                  | 2013                                    | 2                                       | Public Works, Transportation & Commerce | DBI                                     | DBI Building Inspection                 |  38                                     | Plumbers and Pipefitters, Local 38      | 6200                                    | Public Safety Inspection                | ...                                     | 40949                                   | 105742.01                               | 315.20                                  |  5288.35                                | 111345.56                               | 19663.52                                | 12801.79                                | 9283.02                                 | 41748.33                                | 153093.89                               |\n",
       "\n"
      ],
      "text/plain": [
       "       Year.Type Year Organization.Group.Code\n",
       "835303 Fiscal    2013 6                      \n",
       "835304 Fiscal    2013 5                      \n",
       "835305 Fiscal    2013 2                      \n",
       "835306 Fiscal    2013 1                      \n",
       "835307 Fiscal    2013 2                      \n",
       "       Organization.Group                      Department.Code\n",
       "835303 General Administration & Finance        ASR            \n",
       "835304 Culture & Recreation                    REC            \n",
       "835305 Public Works, Transportation & Commerce MTA            \n",
       "835306 Public Protection                       POL            \n",
       "835307 Public Works, Transportation & Commerce DBI            \n",
       "       Department                    Union.Code\n",
       "835303 ASR Assessor / Recorder       790       \n",
       "835304 REC Recreation & Park Commsn  790       \n",
       "835305 MTA Municipal Transprtn Agncy   6       \n",
       "835306 POL Police                    911       \n",
       "835307 DBI Building Inspection        38       \n",
       "       Union                              Job.Family.Code\n",
       "835303 SEIU - Miscellaneous, Local 1021   4200           \n",
       "835304 SEIU - Miscellaneous, Local 1021   2700           \n",
       "835305 Electrical Workers, Local 6        7300           \n",
       "835306 Police Officers' Association       Q000           \n",
       "835307 Plumbers and Pipefitters, Local 38 6200           \n",
       "       Job.Family               ... Employee.Identifier Salaries  Overtime\n",
       "835303 Appraisal & Taxation     ... 48952                36053.00 263.48  \n",
       "835304 Housekeeping & Laundry   ... 54963                53192.12   0.00  \n",
       "835305 Journeyman Trade         ... 31177                65876.00 997.34  \n",
       "835306 Police Services          ... 21887               123487.27   0.00  \n",
       "835307 Public Safety Inspection ... 40949               105742.01 315.20  \n",
       "       Other.Salaries Total.Salary Retirement Health.and.Dental Other.Benefits\n",
       "835303   372.00        36688.48     6633.07    7631.83          3001.15       \n",
       "835304   467.16        53659.28     9771.30   12851.02          4482.69       \n",
       "835305 23411.95        90285.29    13015.46   10586.09          7360.81       \n",
       "835306  1060.04       124547.31    21999.44   11456.99          2113.86       \n",
       "835307  5288.35       111345.56    19663.52   12801.79          9283.02       \n",
       "       Total.Benefits Total.Compensation\n",
       "835303 17266.05        53954.53         \n",
       "835304 27105.01        80764.29         \n",
       "835305 30962.36       121247.65         \n",
       "835306 35570.29       160117.60         \n",
       "835307 41748.33       153093.89         "
      ]
     },
     "metadata": {},
     "output_type": "display_data"
    }
   ],
   "source": [
    "tail(jobs, n=5)"
   ]
  },
  {
   "cell_type": "markdown",
   "metadata": {},
   "source": [
    "Let's see how many rows this dataset contains."
   ]
  },
  {
   "cell_type": "code",
   "execution_count": 4,
   "metadata": {},
   "outputs": [
    {
     "data": {
      "text/html": [
       "835307"
      ],
      "text/latex": [
       "835307"
      ],
      "text/markdown": [
       "835307"
      ],
      "text/plain": [
       "[1] 835307"
      ]
     },
     "metadata": {},
     "output_type": "display_data"
    }
   ],
   "source": [
    "nrow(jobs)"
   ]
  },
  {
   "cell_type": "markdown",
   "metadata": {},
   "source": [
    "Let's see how many columns this dataset contains."
   ]
  },
  {
   "cell_type": "code",
   "execution_count": 5,
   "metadata": {},
   "outputs": [
    {
     "data": {
      "text/html": [
       "22"
      ],
      "text/latex": [
       "22"
      ],
      "text/markdown": [
       "22"
      ],
      "text/plain": [
       "[1] 22"
      ]
     },
     "metadata": {},
     "output_type": "display_data"
    }
   ],
   "source": [
    "ncol(jobs)"
   ]
  },
  {
   "cell_type": "markdown",
   "metadata": {},
   "source": [
    "## 3. Subsets of Data"
   ]
  },
  {
   "cell_type": "markdown",
   "metadata": {},
   "source": [
    "### Subset 1"
   ]
  },
  {
   "cell_type": "markdown",
   "metadata": {},
   "source": [
    "Here we create a subset of the mentioned columns having salaries less than 0, employees that do not get paid on time or do not get paid at all.  "
   ]
  },
  {
   "cell_type": "code",
   "execution_count": 2,
   "metadata": {},
   "outputs": [],
   "source": [
    "s1 <- subset(jobs, Salaries < 0, select=c(\"Year.Type\", \"Year\", \"Organization.Group\", \"Union\", \"Job\", \"Salaries\"))"
   ]
  },
  {
   "cell_type": "markdown",
   "metadata": {},
   "source": [
    "Below we diplay the top 5 rows and also the number of rows this subset has."
   ]
  },
  {
   "cell_type": "code",
   "execution_count": 3,
   "metadata": {},
   "outputs": [
    {
     "data": {
      "text/html": [
       "<table>\n",
       "<thead><tr><th></th><th scope=col>Year.Type</th><th scope=col>Year</th><th scope=col>Organization.Group</th><th scope=col>Union</th><th scope=col>Job</th><th scope=col>Salaries</th></tr></thead>\n",
       "<tbody>\n",
       "\t<tr><th scope=row>195</th><td>Calendar                      </td><td>2019                          </td><td>Public Protection             </td><td>Firefighters,Local 798, Unit 1</td><td>Captain, Emergency Med Svcs   </td><td>-9942.33                      </td></tr>\n",
       "\t<tr><th scope=row>3921</th><td>Calendar                      </td><td>2019                          </td><td>Community Health              </td><td>SEIU, Local 1021, RN          </td><td>Special Nurse                 </td><td>  -10.74                      </td></tr>\n",
       "\t<tr><th scope=row>12067</th><td>Calendar                      </td><td>2019                          </td><td>Community Health              </td><td>SEIU, Local 1021, RN          </td><td>Special Nurse                 </td><td>  -10.74                      </td></tr>\n",
       "\t<tr><th scope=row>15628</th><td>Calendar                      </td><td>2019                          </td><td>Public Protection             </td><td>Firefighters,Local 798, Unit 1</td><td>Captain, Emergency Med Svcs   </td><td>-9942.33                      </td></tr>\n",
       "\t<tr><th scope=row>22067</th><td>Calendar                      </td><td>2019                          </td><td>Community Health              </td><td>SEIU, Local 1021, RN          </td><td>Special Nurse                 </td><td>  -10.74                      </td></tr>\n",
       "\t<tr><th scope=row>25627</th><td>Calendar                      </td><td>2019                          </td><td>Public Protection             </td><td>Firefighters,Local 798, Unit 1</td><td>Captain, Emergency Med Svcs   </td><td>-9942.33                      </td></tr>\n",
       "</tbody>\n",
       "</table>\n"
      ],
      "text/latex": [
       "\\begin{tabular}{r|llllll}\n",
       "  & Year.Type & Year & Organization.Group & Union & Job & Salaries\\\\\n",
       "\\hline\n",
       "\t195 & Calendar                       & 2019                           & Public Protection              & Firefighters,Local 798, Unit 1 & Captain, Emergency Med Svcs    & -9942.33                      \\\\\n",
       "\t3921 & Calendar                       & 2019                           & Community Health               & SEIU, Local 1021, RN           & Special Nurse                  &   -10.74                      \\\\\n",
       "\t12067 & Calendar                       & 2019                           & Community Health               & SEIU, Local 1021, RN           & Special Nurse                  &   -10.74                      \\\\\n",
       "\t15628 & Calendar                       & 2019                           & Public Protection              & Firefighters,Local 798, Unit 1 & Captain, Emergency Med Svcs    & -9942.33                      \\\\\n",
       "\t22067 & Calendar                       & 2019                           & Community Health               & SEIU, Local 1021, RN           & Special Nurse                  &   -10.74                      \\\\\n",
       "\t25627 & Calendar                       & 2019                           & Public Protection              & Firefighters,Local 798, Unit 1 & Captain, Emergency Med Svcs    & -9942.33                      \\\\\n",
       "\\end{tabular}\n"
      ],
      "text/markdown": [
       "\n",
       "| <!--/--> | Year.Type | Year | Organization.Group | Union | Job | Salaries |\n",
       "|---|---|---|---|---|---|---|\n",
       "| 195 | Calendar                       | 2019                           | Public Protection              | Firefighters,Local 798, Unit 1 | Captain, Emergency Med Svcs    | -9942.33                       |\n",
       "| 3921 | Calendar                       | 2019                           | Community Health               | SEIU, Local 1021, RN           | Special Nurse                  |   -10.74                       |\n",
       "| 12067 | Calendar                       | 2019                           | Community Health               | SEIU, Local 1021, RN           | Special Nurse                  |   -10.74                       |\n",
       "| 15628 | Calendar                       | 2019                           | Public Protection              | Firefighters,Local 798, Unit 1 | Captain, Emergency Med Svcs    | -9942.33                       |\n",
       "| 22067 | Calendar                       | 2019                           | Community Health               | SEIU, Local 1021, RN           | Special Nurse                  |   -10.74                       |\n",
       "| 25627 | Calendar                       | 2019                           | Public Protection              | Firefighters,Local 798, Unit 1 | Captain, Emergency Med Svcs    | -9942.33                       |\n",
       "\n"
      ],
      "text/plain": [
       "      Year.Type Year Organization.Group Union                         \n",
       "195   Calendar  2019 Public Protection  Firefighters,Local 798, Unit 1\n",
       "3921  Calendar  2019 Community Health   SEIU, Local 1021, RN          \n",
       "12067 Calendar  2019 Community Health   SEIU, Local 1021, RN          \n",
       "15628 Calendar  2019 Public Protection  Firefighters,Local 798, Unit 1\n",
       "22067 Calendar  2019 Community Health   SEIU, Local 1021, RN          \n",
       "25627 Calendar  2019 Public Protection  Firefighters,Local 798, Unit 1\n",
       "      Job                         Salaries\n",
       "195   Captain, Emergency Med Svcs -9942.33\n",
       "3921  Special Nurse                 -10.74\n",
       "12067 Special Nurse                 -10.74\n",
       "15628 Captain, Emergency Med Svcs -9942.33\n",
       "22067 Special Nurse                 -10.74\n",
       "25627 Captain, Emergency Med Svcs -9942.33"
      ]
     },
     "metadata": {},
     "output_type": "display_data"
    },
    {
     "data": {
      "text/html": [
       "113"
      ],
      "text/latex": [
       "113"
      ],
      "text/markdown": [
       "113"
      ],
      "text/plain": [
       "[1] 113"
      ]
     },
     "metadata": {},
     "output_type": "display_data"
    }
   ],
   "source": [
    "head(s1)\n",
    "nrow(s1)"
   ]
  },
  {
   "cell_type": "markdown",
   "metadata": {},
   "source": [
    "### Subset 2"
   ]
  },
  {
   "cell_type": "markdown",
   "metadata": {},
   "source": [
    "Below code creates a subset of the mentioned columns and rows of employees getting any salary more than 0."
   ]
  },
  {
   "cell_type": "code",
   "execution_count": 8,
   "metadata": {},
   "outputs": [],
   "source": [
    "s2 <- subset(jobs, Salaries > 0, select=c(\"Year.Type\", \"Year\", \"Organization.Group\", \"Union\", \"Job\", \"Salaries\"))"
   ]
  },
  {
   "cell_type": "markdown",
   "metadata": {},
   "source": [
    "Below we display the top 6 rows of this subset and also the number of rows this subset has."
   ]
  },
  {
   "cell_type": "code",
   "execution_count": 9,
   "metadata": {},
   "outputs": [
    {
     "data": {
      "text/html": [
       "<table>\n",
       "<thead><tr><th scope=col>Year.Type</th><th scope=col>Year</th><th scope=col>Organization.Group</th><th scope=col>Union</th><th scope=col>Job</th><th scope=col>Salaries</th></tr></thead>\n",
       "<tbody>\n",
       "\t<tr><td>Calendar                      </td><td>2028                          </td><td>General City Responsibilities </td><td>Utd Pub EmpL790 SEIU-Crt Clrks</td><td>Deputy Court Clerk II         </td><td>   674.28                     </td></tr>\n",
       "\t<tr><td>Calendar                      </td><td>2028                          </td><td>Public Protection             </td><td>Utd Pub EmpL790 SEIU-Crt Clrks</td><td>Deputy Court Clerk II         </td><td>   674.28                     </td></tr>\n",
       "\t<tr><td>Fiscal                        </td><td>2028                          </td><td>Public Protection             </td><td>Utd Pub EmpL790 SEIU-Crt Clrks</td><td>Deputy Court Clerk II         </td><td>   674.28                     </td></tr>\n",
       "\t<tr><td>Calendar                      </td><td>2019                          </td><td>General City Responsibilities </td><td>POA                           </td><td>Police Officer 3              </td><td>124709.01                     </td></tr>\n",
       "\t<tr><td>Calendar                      </td><td>2019                          </td><td>Public Protection             </td><td>Municipal Attorneys Assoc     </td><td>Attorney (Civil/Criminal)     </td><td>155489.01                     </td></tr>\n",
       "\t<tr><td>Calendar                      </td><td>2019                          </td><td>General City Responsibilities </td><td>Auto Machinist, Local 1414    </td><td>Automotive Machinist          </td><td> 69490.84                     </td></tr>\n",
       "</tbody>\n",
       "</table>\n"
      ],
      "text/latex": [
       "\\begin{tabular}{r|llllll}\n",
       " Year.Type & Year & Organization.Group & Union & Job & Salaries\\\\\n",
       "\\hline\n",
       "\t Calendar                       & 2028                           & General City Responsibilities  & Utd Pub EmpL790 SEIU-Crt Clrks & Deputy Court Clerk II          &    674.28                     \\\\\n",
       "\t Calendar                       & 2028                           & Public Protection              & Utd Pub EmpL790 SEIU-Crt Clrks & Deputy Court Clerk II          &    674.28                     \\\\\n",
       "\t Fiscal                         & 2028                           & Public Protection              & Utd Pub EmpL790 SEIU-Crt Clrks & Deputy Court Clerk II          &    674.28                     \\\\\n",
       "\t Calendar                       & 2019                           & General City Responsibilities  & POA                            & Police Officer 3               & 124709.01                     \\\\\n",
       "\t Calendar                       & 2019                           & Public Protection              & Municipal Attorneys Assoc      & Attorney (Civil/Criminal)      & 155489.01                     \\\\\n",
       "\t Calendar                       & 2019                           & General City Responsibilities  & Auto Machinist, Local 1414     & Automotive Machinist           &  69490.84                     \\\\\n",
       "\\end{tabular}\n"
      ],
      "text/markdown": [
       "\n",
       "| Year.Type | Year | Organization.Group | Union | Job | Salaries |\n",
       "|---|---|---|---|---|---|\n",
       "| Calendar                       | 2028                           | General City Responsibilities  | Utd Pub EmpL790 SEIU-Crt Clrks | Deputy Court Clerk II          |    674.28                      |\n",
       "| Calendar                       | 2028                           | Public Protection              | Utd Pub EmpL790 SEIU-Crt Clrks | Deputy Court Clerk II          |    674.28                      |\n",
       "| Fiscal                         | 2028                           | Public Protection              | Utd Pub EmpL790 SEIU-Crt Clrks | Deputy Court Clerk II          |    674.28                      |\n",
       "| Calendar                       | 2019                           | General City Responsibilities  | POA                            | Police Officer 3               | 124709.01                      |\n",
       "| Calendar                       | 2019                           | Public Protection              | Municipal Attorneys Assoc      | Attorney (Civil/Criminal)      | 155489.01                      |\n",
       "| Calendar                       | 2019                           | General City Responsibilities  | Auto Machinist, Local 1414     | Automotive Machinist           |  69490.84                      |\n",
       "\n"
      ],
      "text/plain": [
       "  Year.Type Year Organization.Group            Union                         \n",
       "1 Calendar  2028 General City Responsibilities Utd Pub EmpL790 SEIU-Crt Clrks\n",
       "2 Calendar  2028 Public Protection             Utd Pub EmpL790 SEIU-Crt Clrks\n",
       "3 Fiscal    2028 Public Protection             Utd Pub EmpL790 SEIU-Crt Clrks\n",
       "4 Calendar  2019 General City Responsibilities POA                           \n",
       "5 Calendar  2019 Public Protection             Municipal Attorneys Assoc     \n",
       "6 Calendar  2019 General City Responsibilities Auto Machinist, Local 1414    \n",
       "  Job                       Salaries \n",
       "1 Deputy Court Clerk II        674.28\n",
       "2 Deputy Court Clerk II        674.28\n",
       "3 Deputy Court Clerk II        674.28\n",
       "4 Police Officer 3          124709.01\n",
       "5 Attorney (Civil/Criminal) 155489.01\n",
       "6 Automotive Machinist       69490.84"
      ]
     },
     "metadata": {},
     "output_type": "display_data"
    },
    {
     "data": {
      "text/html": [
       "713717"
      ],
      "text/latex": [
       "713717"
      ],
      "text/markdown": [
       "713717"
      ],
      "text/plain": [
       "[1] 713717"
      ]
     },
     "metadata": {},
     "output_type": "display_data"
    }
   ],
   "source": [
    "head(s2)\n",
    "nrow(s2)"
   ]
  },
  {
   "cell_type": "markdown",
   "metadata": {},
   "source": [
    "### Subset 3"
   ]
  },
  {
   "cell_type": "markdown",
   "metadata": {},
   "source": [
    "Below code creates a subset of the mentioned columns and rows of employees getting overtime more than 0."
   ]
  },
  {
   "cell_type": "code",
   "execution_count": 10,
   "metadata": {},
   "outputs": [],
   "source": [
    "s3 <- subset(jobs, Overtime > 0, select=c(\"Year.Type\", \"Year\", \"Organization.Group\", \"Union\", \"Job\", \"Salaries\", \"Overtime\", \"Total.Salary\"))"
   ]
  },
  {
   "cell_type": "markdown",
   "metadata": {},
   "source": [
    "Below displayed are the top 6 rows of this subset and also the number of rows in this subset."
   ]
  },
  {
   "cell_type": "code",
   "execution_count": 11,
   "metadata": {},
   "outputs": [
    {
     "data": {
      "text/html": [
       "<table>\n",
       "<thead><tr><th></th><th scope=col>Year.Type</th><th scope=col>Year</th><th scope=col>Organization.Group</th><th scope=col>Union</th><th scope=col>Job</th><th scope=col>Salaries</th><th scope=col>Overtime</th><th scope=col>Total.Salary</th></tr></thead>\n",
       "<tbody>\n",
       "\t<tr><th scope=row>4</th><td>Calendar                     </td><td>2019                         </td><td>General City Responsibilities</td><td>POA                          </td><td>Police Officer 3             </td><td>124709.01                    </td><td>100499.62                    </td><td>230710.41                    </td></tr>\n",
       "\t<tr><th scope=row>6</th><td>Calendar                     </td><td>2019                         </td><td>General City Responsibilities</td><td>Auto Machinist, Local 1414   </td><td>Automotive Machinist         </td><td> 69490.84                    </td><td> 34969.05                    </td><td>117804.42                    </td></tr>\n",
       "\t<tr><th scope=row>7</th><td>Calendar                     </td><td>2019                         </td><td>General City Responsibilities</td><td>SEIU, Local 1021, Misc       </td><td>Public SafetyComm Disp       </td><td> 57062.72                    </td><td>  6033.18                    </td><td> 64287.90                    </td></tr>\n",
       "\t<tr><th scope=row>8</th><td>Calendar                     </td><td>2019                         </td><td>General City Responsibilities</td><td>TWU, Local 250-A, TransitOpr </td><td>Transit Operator             </td><td> 74231.85                    </td><td> 22440.63                    </td><td>100291.97                    </td></tr>\n",
       "\t<tr><th scope=row>9</th><td>Calendar                     </td><td>2019                         </td><td>Community Health             </td><td>Teamsters, Local 856, Spv RN </td><td>Nursing Supervisor           </td><td> 22348.10                    </td><td>  5032.61                    </td><td> 29136.54                    </td></tr>\n",
       "\t<tr><th scope=row>10</th><td>Calendar                     </td><td>2019                         </td><td>Public Protection            </td><td>POA                          </td><td>Lieutenant 3                 </td><td>     0.00                    </td><td>  2911.35                    </td><td>  2911.35                    </td></tr>\n",
       "</tbody>\n",
       "</table>\n"
      ],
      "text/latex": [
       "\\begin{tabular}{r|llllllll}\n",
       "  & Year.Type & Year & Organization.Group & Union & Job & Salaries & Overtime & Total.Salary\\\\\n",
       "\\hline\n",
       "\t4 & Calendar                      & 2019                          & General City Responsibilities & POA                           & Police Officer 3              & 124709.01                     & 100499.62                     & 230710.41                    \\\\\n",
       "\t6 & Calendar                      & 2019                          & General City Responsibilities & Auto Machinist, Local 1414    & Automotive Machinist          &  69490.84                     &  34969.05                     & 117804.42                    \\\\\n",
       "\t7 & Calendar                      & 2019                          & General City Responsibilities & SEIU, Local 1021, Misc        & Public SafetyComm Disp        &  57062.72                     &   6033.18                     &  64287.90                    \\\\\n",
       "\t8 & Calendar                      & 2019                          & General City Responsibilities & TWU, Local 250-A, TransitOpr  & Transit Operator              &  74231.85                     &  22440.63                     & 100291.97                    \\\\\n",
       "\t9 & Calendar                      & 2019                          & Community Health              & Teamsters, Local 856, Spv RN  & Nursing Supervisor            &  22348.10                     &   5032.61                     &  29136.54                    \\\\\n",
       "\t10 & Calendar                      & 2019                          & Public Protection             & POA                           & Lieutenant 3                  &      0.00                     &   2911.35                     &   2911.35                    \\\\\n",
       "\\end{tabular}\n"
      ],
      "text/markdown": [
       "\n",
       "| <!--/--> | Year.Type | Year | Organization.Group | Union | Job | Salaries | Overtime | Total.Salary |\n",
       "|---|---|---|---|---|---|---|---|---|\n",
       "| 4 | Calendar                      | 2019                          | General City Responsibilities | POA                           | Police Officer 3              | 124709.01                     | 100499.62                     | 230710.41                     |\n",
       "| 6 | Calendar                      | 2019                          | General City Responsibilities | Auto Machinist, Local 1414    | Automotive Machinist          |  69490.84                     |  34969.05                     | 117804.42                     |\n",
       "| 7 | Calendar                      | 2019                          | General City Responsibilities | SEIU, Local 1021, Misc        | Public SafetyComm Disp        |  57062.72                     |   6033.18                     |  64287.90                     |\n",
       "| 8 | Calendar                      | 2019                          | General City Responsibilities | TWU, Local 250-A, TransitOpr  | Transit Operator              |  74231.85                     |  22440.63                     | 100291.97                     |\n",
       "| 9 | Calendar                      | 2019                          | Community Health              | Teamsters, Local 856, Spv RN  | Nursing Supervisor            |  22348.10                     |   5032.61                     |  29136.54                     |\n",
       "| 10 | Calendar                      | 2019                          | Public Protection             | POA                           | Lieutenant 3                  |      0.00                     |   2911.35                     |   2911.35                     |\n",
       "\n"
      ],
      "text/plain": [
       "   Year.Type Year Organization.Group            Union                       \n",
       "4  Calendar  2019 General City Responsibilities POA                         \n",
       "6  Calendar  2019 General City Responsibilities Auto Machinist, Local 1414  \n",
       "7  Calendar  2019 General City Responsibilities SEIU, Local 1021, Misc      \n",
       "8  Calendar  2019 General City Responsibilities TWU, Local 250-A, TransitOpr\n",
       "9  Calendar  2019 Community Health              Teamsters, Local 856, Spv RN\n",
       "10 Calendar  2019 Public Protection             POA                         \n",
       "   Job                    Salaries  Overtime  Total.Salary\n",
       "4  Police Officer 3       124709.01 100499.62 230710.41   \n",
       "6  Automotive Machinist    69490.84  34969.05 117804.42   \n",
       "7  Public SafetyComm Disp  57062.72   6033.18  64287.90   \n",
       "8  Transit Operator        74231.85  22440.63 100291.97   \n",
       "9  Nursing Supervisor      22348.10   5032.61  29136.54   \n",
       "10 Lieutenant 3                0.00   2911.35   2911.35   "
      ]
     },
     "metadata": {},
     "output_type": "display_data"
    },
    {
     "data": {
      "text/html": [
       "315769"
      ],
      "text/latex": [
       "315769"
      ],
      "text/markdown": [
       "315769"
      ],
      "text/plain": [
       "[1] 315769"
      ]
     },
     "metadata": {},
     "output_type": "display_data"
    }
   ],
   "source": [
    "head(s3)\n",
    "nrow(s3)"
   ]
  },
  {
   "cell_type": "markdown",
   "metadata": {},
   "source": [
    "### Subset 4"
   ]
  },
  {
   "cell_type": "markdown",
   "metadata": {},
   "source": [
    "Below code creates a subset of the mentioned columns and rows of employees getting any other salary more than 0."
   ]
  },
  {
   "cell_type": "code",
   "execution_count": 12,
   "metadata": {},
   "outputs": [],
   "source": [
    "s4 <- subset(jobs, Other.Salaries > 0, select=c(\"Year.Type\", \"Year\", \"Organization.Group\", \"Union\", \"Job\", \"Salaries\", \"Other.Salaries\"))"
   ]
  },
  {
   "cell_type": "markdown",
   "metadata": {},
   "source": [
    "Below the top 6 rows of this subset are displayed and also the number of rows in this subset."
   ]
  },
  {
   "cell_type": "code",
   "execution_count": 13,
   "metadata": {
    "scrolled": true
   },
   "outputs": [
    {
     "data": {
      "text/html": [
       "<table>\n",
       "<thead><tr><th scope=col>Year.Type</th><th scope=col>Year</th><th scope=col>Organization.Group</th><th scope=col>Union</th><th scope=col>Job</th><th scope=col>Salaries</th><th scope=col>Other.Salaries</th></tr></thead>\n",
       "<tbody>\n",
       "\t<tr><td>Calendar                      </td><td>2028                          </td><td>General City Responsibilities </td><td>Utd Pub EmpL790 SEIU-Crt Clrks</td><td>Deputy Court Clerk II         </td><td>   674.28                     </td><td>    5.76                      </td></tr>\n",
       "\t<tr><td>Calendar                      </td><td>2028                          </td><td>Public Protection             </td><td>Utd Pub EmpL790 SEIU-Crt Clrks</td><td>Deputy Court Clerk II         </td><td>   674.28                     </td><td>    5.76                      </td></tr>\n",
       "\t<tr><td>Fiscal                        </td><td>2028                          </td><td>Public Protection             </td><td>Utd Pub EmpL790 SEIU-Crt Clrks</td><td>Deputy Court Clerk II         </td><td>   674.28                     </td><td>    5.76                      </td></tr>\n",
       "\t<tr><td>Calendar                      </td><td>2019                          </td><td>General City Responsibilities </td><td>POA                           </td><td>Police Officer 3              </td><td>124709.01                     </td><td> 5501.78                      </td></tr>\n",
       "\t<tr><td>Calendar                      </td><td>2019                          </td><td>Public Protection             </td><td>Municipal Attorneys Assoc     </td><td>Attorney (Civil/Criminal)     </td><td>155489.01                     </td><td> 1500.00                      </td></tr>\n",
       "\t<tr><td>Calendar                      </td><td>2019                          </td><td>General City Responsibilities </td><td>Auto Machinist, Local 1414    </td><td>Automotive Machinist          </td><td> 69490.84                     </td><td>13344.53                      </td></tr>\n",
       "</tbody>\n",
       "</table>\n"
      ],
      "text/latex": [
       "\\begin{tabular}{r|lllllll}\n",
       " Year.Type & Year & Organization.Group & Union & Job & Salaries & Other.Salaries\\\\\n",
       "\\hline\n",
       "\t Calendar                       & 2028                           & General City Responsibilities  & Utd Pub EmpL790 SEIU-Crt Clrks & Deputy Court Clerk II          &    674.28                      &     5.76                      \\\\\n",
       "\t Calendar                       & 2028                           & Public Protection              & Utd Pub EmpL790 SEIU-Crt Clrks & Deputy Court Clerk II          &    674.28                      &     5.76                      \\\\\n",
       "\t Fiscal                         & 2028                           & Public Protection              & Utd Pub EmpL790 SEIU-Crt Clrks & Deputy Court Clerk II          &    674.28                      &     5.76                      \\\\\n",
       "\t Calendar                       & 2019                           & General City Responsibilities  & POA                            & Police Officer 3               & 124709.01                      &  5501.78                      \\\\\n",
       "\t Calendar                       & 2019                           & Public Protection              & Municipal Attorneys Assoc      & Attorney (Civil/Criminal)      & 155489.01                      &  1500.00                      \\\\\n",
       "\t Calendar                       & 2019                           & General City Responsibilities  & Auto Machinist, Local 1414     & Automotive Machinist           &  69490.84                      & 13344.53                      \\\\\n",
       "\\end{tabular}\n"
      ],
      "text/markdown": [
       "\n",
       "| Year.Type | Year | Organization.Group | Union | Job | Salaries | Other.Salaries |\n",
       "|---|---|---|---|---|---|---|\n",
       "| Calendar                       | 2028                           | General City Responsibilities  | Utd Pub EmpL790 SEIU-Crt Clrks | Deputy Court Clerk II          |    674.28                      |     5.76                       |\n",
       "| Calendar                       | 2028                           | Public Protection              | Utd Pub EmpL790 SEIU-Crt Clrks | Deputy Court Clerk II          |    674.28                      |     5.76                       |\n",
       "| Fiscal                         | 2028                           | Public Protection              | Utd Pub EmpL790 SEIU-Crt Clrks | Deputy Court Clerk II          |    674.28                      |     5.76                       |\n",
       "| Calendar                       | 2019                           | General City Responsibilities  | POA                            | Police Officer 3               | 124709.01                      |  5501.78                       |\n",
       "| Calendar                       | 2019                           | Public Protection              | Municipal Attorneys Assoc      | Attorney (Civil/Criminal)      | 155489.01                      |  1500.00                       |\n",
       "| Calendar                       | 2019                           | General City Responsibilities  | Auto Machinist, Local 1414     | Automotive Machinist           |  69490.84                      | 13344.53                       |\n",
       "\n"
      ],
      "text/plain": [
       "  Year.Type Year Organization.Group            Union                         \n",
       "1 Calendar  2028 General City Responsibilities Utd Pub EmpL790 SEIU-Crt Clrks\n",
       "2 Calendar  2028 Public Protection             Utd Pub EmpL790 SEIU-Crt Clrks\n",
       "3 Fiscal    2028 Public Protection             Utd Pub EmpL790 SEIU-Crt Clrks\n",
       "4 Calendar  2019 General City Responsibilities POA                           \n",
       "5 Calendar  2019 Public Protection             Municipal Attorneys Assoc     \n",
       "6 Calendar  2019 General City Responsibilities Auto Machinist, Local 1414    \n",
       "  Job                       Salaries  Other.Salaries\n",
       "1 Deputy Court Clerk II        674.28     5.76      \n",
       "2 Deputy Court Clerk II        674.28     5.76      \n",
       "3 Deputy Court Clerk II        674.28     5.76      \n",
       "4 Police Officer 3          124709.01  5501.78      \n",
       "5 Attorney (Civil/Criminal) 155489.01  1500.00      \n",
       "6 Automotive Machinist       69490.84 13344.53      "
      ]
     },
     "metadata": {},
     "output_type": "display_data"
    },
    {
     "data": {
      "text/html": [
       "478895"
      ],
      "text/latex": [
       "478895"
      ],
      "text/markdown": [
       "478895"
      ],
      "text/plain": [
       "[1] 478895"
      ]
     },
     "metadata": {},
     "output_type": "display_data"
    }
   ],
   "source": [
    "head(s4)\n",
    "nrow(s4)"
   ]
  },
  {
   "cell_type": "markdown",
   "metadata": {},
   "source": [
    "### Subset 5"
   ]
  },
  {
   "cell_type": "markdown",
   "metadata": {},
   "source": [
    "Below code creates a subset of the mentioned columns and rows of employees getting any amount of salary after retirement. "
   ]
  },
  {
   "cell_type": "code",
   "execution_count": 14,
   "metadata": {},
   "outputs": [],
   "source": [
    "s5 <- subset(jobs, Retirement > 0, select=c(\"Year.Type\", \"Year\", \"Organization.Group\", \"Department.Code\", \"Union\", \"Job\", \"Salaries\", \"Other.Salaries\", \"Retirement\" ))"
   ]
  },
  {
   "cell_type": "markdown",
   "metadata": {},
   "source": [
    "Below the top 6 rows of this subset are displayed and also the number of rows in this subset."
   ]
  },
  {
   "cell_type": "code",
   "execution_count": 15,
   "metadata": {},
   "outputs": [
    {
     "data": {
      "text/html": [
       "<table>\n",
       "<thead><tr><th scope=col>Year.Type</th><th scope=col>Year</th><th scope=col>Organization.Group</th><th scope=col>Union</th><th scope=col>Job</th><th scope=col>Salaries</th><th scope=col>Other.Salaries</th></tr></thead>\n",
       "<tbody>\n",
       "\t<tr><td>Calendar                      </td><td>2028                          </td><td>General City Responsibilities </td><td>Utd Pub EmpL790 SEIU-Crt Clrks</td><td>Deputy Court Clerk II         </td><td>   674.28                     </td><td>    5.76                      </td></tr>\n",
       "\t<tr><td>Calendar                      </td><td>2028                          </td><td>Public Protection             </td><td>Utd Pub EmpL790 SEIU-Crt Clrks</td><td>Deputy Court Clerk II         </td><td>   674.28                     </td><td>    5.76                      </td></tr>\n",
       "\t<tr><td>Fiscal                        </td><td>2028                          </td><td>Public Protection             </td><td>Utd Pub EmpL790 SEIU-Crt Clrks</td><td>Deputy Court Clerk II         </td><td>   674.28                     </td><td>    5.76                      </td></tr>\n",
       "\t<tr><td>Calendar                      </td><td>2019                          </td><td>General City Responsibilities </td><td>POA                           </td><td>Police Officer 3              </td><td>124709.01                     </td><td> 5501.78                      </td></tr>\n",
       "\t<tr><td>Calendar                      </td><td>2019                          </td><td>Public Protection             </td><td>Municipal Attorneys Assoc     </td><td>Attorney (Civil/Criminal)     </td><td>155489.01                     </td><td> 1500.00                      </td></tr>\n",
       "\t<tr><td>Calendar                      </td><td>2019                          </td><td>General City Responsibilities </td><td>Auto Machinist, Local 1414    </td><td>Automotive Machinist          </td><td> 69490.84                     </td><td>13344.53                      </td></tr>\n",
       "</tbody>\n",
       "</table>\n"
      ],
      "text/latex": [
       "\\begin{tabular}{r|lllllll}\n",
       " Year.Type & Year & Organization.Group & Union & Job & Salaries & Other.Salaries\\\\\n",
       "\\hline\n",
       "\t Calendar                       & 2028                           & General City Responsibilities  & Utd Pub EmpL790 SEIU-Crt Clrks & Deputy Court Clerk II          &    674.28                      &     5.76                      \\\\\n",
       "\t Calendar                       & 2028                           & Public Protection              & Utd Pub EmpL790 SEIU-Crt Clrks & Deputy Court Clerk II          &    674.28                      &     5.76                      \\\\\n",
       "\t Fiscal                         & 2028                           & Public Protection              & Utd Pub EmpL790 SEIU-Crt Clrks & Deputy Court Clerk II          &    674.28                      &     5.76                      \\\\\n",
       "\t Calendar                       & 2019                           & General City Responsibilities  & POA                            & Police Officer 3               & 124709.01                      &  5501.78                      \\\\\n",
       "\t Calendar                       & 2019                           & Public Protection              & Municipal Attorneys Assoc      & Attorney (Civil/Criminal)      & 155489.01                      &  1500.00                      \\\\\n",
       "\t Calendar                       & 2019                           & General City Responsibilities  & Auto Machinist, Local 1414     & Automotive Machinist           &  69490.84                      & 13344.53                      \\\\\n",
       "\\end{tabular}\n"
      ],
      "text/markdown": [
       "\n",
       "| Year.Type | Year | Organization.Group | Union | Job | Salaries | Other.Salaries |\n",
       "|---|---|---|---|---|---|---|\n",
       "| Calendar                       | 2028                           | General City Responsibilities  | Utd Pub EmpL790 SEIU-Crt Clrks | Deputy Court Clerk II          |    674.28                      |     5.76                       |\n",
       "| Calendar                       | 2028                           | Public Protection              | Utd Pub EmpL790 SEIU-Crt Clrks | Deputy Court Clerk II          |    674.28                      |     5.76                       |\n",
       "| Fiscal                         | 2028                           | Public Protection              | Utd Pub EmpL790 SEIU-Crt Clrks | Deputy Court Clerk II          |    674.28                      |     5.76                       |\n",
       "| Calendar                       | 2019                           | General City Responsibilities  | POA                            | Police Officer 3               | 124709.01                      |  5501.78                       |\n",
       "| Calendar                       | 2019                           | Public Protection              | Municipal Attorneys Assoc      | Attorney (Civil/Criminal)      | 155489.01                      |  1500.00                       |\n",
       "| Calendar                       | 2019                           | General City Responsibilities  | Auto Machinist, Local 1414     | Automotive Machinist           |  69490.84                      | 13344.53                       |\n",
       "\n"
      ],
      "text/plain": [
       "  Year.Type Year Organization.Group            Union                         \n",
       "1 Calendar  2028 General City Responsibilities Utd Pub EmpL790 SEIU-Crt Clrks\n",
       "2 Calendar  2028 Public Protection             Utd Pub EmpL790 SEIU-Crt Clrks\n",
       "3 Fiscal    2028 Public Protection             Utd Pub EmpL790 SEIU-Crt Clrks\n",
       "4 Calendar  2019 General City Responsibilities POA                           \n",
       "5 Calendar  2019 Public Protection             Municipal Attorneys Assoc     \n",
       "6 Calendar  2019 General City Responsibilities Auto Machinist, Local 1414    \n",
       "  Job                       Salaries  Other.Salaries\n",
       "1 Deputy Court Clerk II        674.28     5.76      \n",
       "2 Deputy Court Clerk II        674.28     5.76      \n",
       "3 Deputy Court Clerk II        674.28     5.76      \n",
       "4 Police Officer 3          124709.01  5501.78      \n",
       "5 Attorney (Civil/Criminal) 155489.01  1500.00      \n",
       "6 Automotive Machinist       69490.84 13344.53      "
      ]
     },
     "metadata": {},
     "output_type": "display_data"
    },
    {
     "data": {
      "text/html": [
       "478895"
      ],
      "text/latex": [
       "478895"
      ],
      "text/markdown": [
       "478895"
      ],
      "text/plain": [
       "[1] 478895"
      ]
     },
     "metadata": {},
     "output_type": "display_data"
    }
   ],
   "source": [
    "head(s4)\n",
    "nrow(s4)"
   ]
  },
  {
   "cell_type": "markdown",
   "metadata": {},
   "source": [
    "### Subset 6"
   ]
  },
  {
   "cell_type": "markdown",
   "metadata": {},
   "source": [
    "Below code creates a subset of the mentioned columns and rows of employees having their health and dental taken care off. "
   ]
  },
  {
   "cell_type": "code",
   "execution_count": 16,
   "metadata": {},
   "outputs": [],
   "source": [
    "s6 <- subset(jobs, Health.and.Dental > 0, select=c(\"Year.Type\", \"Year\", \"Organization.Group\", \"Union\", \"Job\", \"Salaries\", \"Health.and.Dental\"))"
   ]
  },
  {
   "cell_type": "markdown",
   "metadata": {},
   "source": [
    "Below the top 6 rows of this subset are displayed and also the number of rows in this subset."
   ]
  },
  {
   "cell_type": "code",
   "execution_count": 17,
   "metadata": {},
   "outputs": [
    {
     "data": {
      "text/html": [
       "<table>\n",
       "<thead><tr><th scope=col>Year.Type</th><th scope=col>Year</th><th scope=col>Organization.Group</th><th scope=col>Union</th><th scope=col>Job</th><th scope=col>Salaries</th><th scope=col>Other.Salaries</th></tr></thead>\n",
       "<tbody>\n",
       "\t<tr><td>Calendar                      </td><td>2028                          </td><td>General City Responsibilities </td><td>Utd Pub EmpL790 SEIU-Crt Clrks</td><td>Deputy Court Clerk II         </td><td>   674.28                     </td><td>    5.76                      </td></tr>\n",
       "\t<tr><td>Calendar                      </td><td>2028                          </td><td>Public Protection             </td><td>Utd Pub EmpL790 SEIU-Crt Clrks</td><td>Deputy Court Clerk II         </td><td>   674.28                     </td><td>    5.76                      </td></tr>\n",
       "\t<tr><td>Fiscal                        </td><td>2028                          </td><td>Public Protection             </td><td>Utd Pub EmpL790 SEIU-Crt Clrks</td><td>Deputy Court Clerk II         </td><td>   674.28                     </td><td>    5.76                      </td></tr>\n",
       "\t<tr><td>Calendar                      </td><td>2019                          </td><td>General City Responsibilities </td><td>POA                           </td><td>Police Officer 3              </td><td>124709.01                     </td><td> 5501.78                      </td></tr>\n",
       "\t<tr><td>Calendar                      </td><td>2019                          </td><td>Public Protection             </td><td>Municipal Attorneys Assoc     </td><td>Attorney (Civil/Criminal)     </td><td>155489.01                     </td><td> 1500.00                      </td></tr>\n",
       "\t<tr><td>Calendar                      </td><td>2019                          </td><td>General City Responsibilities </td><td>Auto Machinist, Local 1414    </td><td>Automotive Machinist          </td><td> 69490.84                     </td><td>13344.53                      </td></tr>\n",
       "</tbody>\n",
       "</table>\n"
      ],
      "text/latex": [
       "\\begin{tabular}{r|lllllll}\n",
       " Year.Type & Year & Organization.Group & Union & Job & Salaries & Other.Salaries\\\\\n",
       "\\hline\n",
       "\t Calendar                       & 2028                           & General City Responsibilities  & Utd Pub EmpL790 SEIU-Crt Clrks & Deputy Court Clerk II          &    674.28                      &     5.76                      \\\\\n",
       "\t Calendar                       & 2028                           & Public Protection              & Utd Pub EmpL790 SEIU-Crt Clrks & Deputy Court Clerk II          &    674.28                      &     5.76                      \\\\\n",
       "\t Fiscal                         & 2028                           & Public Protection              & Utd Pub EmpL790 SEIU-Crt Clrks & Deputy Court Clerk II          &    674.28                      &     5.76                      \\\\\n",
       "\t Calendar                       & 2019                           & General City Responsibilities  & POA                            & Police Officer 3               & 124709.01                      &  5501.78                      \\\\\n",
       "\t Calendar                       & 2019                           & Public Protection              & Municipal Attorneys Assoc      & Attorney (Civil/Criminal)      & 155489.01                      &  1500.00                      \\\\\n",
       "\t Calendar                       & 2019                           & General City Responsibilities  & Auto Machinist, Local 1414     & Automotive Machinist           &  69490.84                      & 13344.53                      \\\\\n",
       "\\end{tabular}\n"
      ],
      "text/markdown": [
       "\n",
       "| Year.Type | Year | Organization.Group | Union | Job | Salaries | Other.Salaries |\n",
       "|---|---|---|---|---|---|---|\n",
       "| Calendar                       | 2028                           | General City Responsibilities  | Utd Pub EmpL790 SEIU-Crt Clrks | Deputy Court Clerk II          |    674.28                      |     5.76                       |\n",
       "| Calendar                       | 2028                           | Public Protection              | Utd Pub EmpL790 SEIU-Crt Clrks | Deputy Court Clerk II          |    674.28                      |     5.76                       |\n",
       "| Fiscal                         | 2028                           | Public Protection              | Utd Pub EmpL790 SEIU-Crt Clrks | Deputy Court Clerk II          |    674.28                      |     5.76                       |\n",
       "| Calendar                       | 2019                           | General City Responsibilities  | POA                            | Police Officer 3               | 124709.01                      |  5501.78                       |\n",
       "| Calendar                       | 2019                           | Public Protection              | Municipal Attorneys Assoc      | Attorney (Civil/Criminal)      | 155489.01                      |  1500.00                       |\n",
       "| Calendar                       | 2019                           | General City Responsibilities  | Auto Machinist, Local 1414     | Automotive Machinist           |  69490.84                      | 13344.53                       |\n",
       "\n"
      ],
      "text/plain": [
       "  Year.Type Year Organization.Group            Union                         \n",
       "1 Calendar  2028 General City Responsibilities Utd Pub EmpL790 SEIU-Crt Clrks\n",
       "2 Calendar  2028 Public Protection             Utd Pub EmpL790 SEIU-Crt Clrks\n",
       "3 Fiscal    2028 Public Protection             Utd Pub EmpL790 SEIU-Crt Clrks\n",
       "4 Calendar  2019 General City Responsibilities POA                           \n",
       "5 Calendar  2019 Public Protection             Municipal Attorneys Assoc     \n",
       "6 Calendar  2019 General City Responsibilities Auto Machinist, Local 1414    \n",
       "  Job                       Salaries  Other.Salaries\n",
       "1 Deputy Court Clerk II        674.28     5.76      \n",
       "2 Deputy Court Clerk II        674.28     5.76      \n",
       "3 Deputy Court Clerk II        674.28     5.76      \n",
       "4 Police Officer 3          124709.01  5501.78      \n",
       "5 Attorney (Civil/Criminal) 155489.01  1500.00      \n",
       "6 Automotive Machinist       69490.84 13344.53      "
      ]
     },
     "metadata": {},
     "output_type": "display_data"
    },
    {
     "data": {
      "text/html": [
       "478895"
      ],
      "text/latex": [
       "478895"
      ],
      "text/markdown": [
       "478895"
      ],
      "text/plain": [
       "[1] 478895"
      ]
     },
     "metadata": {},
     "output_type": "display_data"
    }
   ],
   "source": [
    "head(s4)\n",
    "nrow(s4)"
   ]
  },
  {
   "cell_type": "markdown",
   "metadata": {},
   "source": [
    "## 4. Vectors"
   ]
  },
  {
   "cell_type": "markdown",
   "metadata": {},
   "source": [
    "Here we store in one vector top 6 unique job titles from subset 1 that contains job salaries less than 0."
   ]
  },
  {
   "cell_type": "code",
   "execution_count": 4,
   "metadata": {},
   "outputs": [],
   "source": [
    "v1 <- head(unique(s1$Job))"
   ]
  },
  {
   "cell_type": "code",
   "execution_count": 5,
   "metadata": {},
   "outputs": [
    {
     "data": {
      "text/html": [
       "<ol class=list-inline>\n",
       "\t<li>'Captain, Emergency Med Svcs'</li>\n",
       "\t<li>'Special Nurse'</li>\n",
       "\t<li>'Truck Driver'</li>\n",
       "\t<li>'Firefighter'</li>\n",
       "\t<li>'General Laborer'</li>\n",
       "\t<li>'Transit Car Cleaner Asst Sprv'</li>\n",
       "</ol>\n"
      ],
      "text/latex": [
       "\\begin{enumerate*}\n",
       "\\item 'Captain, Emergency Med Svcs'\n",
       "\\item 'Special Nurse'\n",
       "\\item 'Truck Driver'\n",
       "\\item 'Firefighter'\n",
       "\\item 'General Laborer'\n",
       "\\item 'Transit Car Cleaner Asst Sprv'\n",
       "\\end{enumerate*}\n"
      ],
      "text/markdown": [
       "1. 'Captain, Emergency Med Svcs'\n",
       "2. 'Special Nurse'\n",
       "3. 'Truck Driver'\n",
       "4. 'Firefighter'\n",
       "5. 'General Laborer'\n",
       "6. 'Transit Car Cleaner Asst Sprv'\n",
       "\n",
       "\n"
      ],
      "text/plain": [
       "[1] \"Captain, Emergency Med Svcs\"   \"Special Nurse\"                \n",
       "[3] \"Truck Driver\"                  \"Firefighter\"                  \n",
       "[5] \"General Laborer\"               \"Transit Car Cleaner Asst Sprv\""
      ]
     },
     "metadata": {},
     "output_type": "display_data"
    }
   ],
   "source": [
    "v1"
   ]
  },
  {
   "cell_type": "markdown",
   "metadata": {},
   "source": [
    "## 5. List"
   ]
  },
  {
   "cell_type": "markdown",
   "metadata": {},
   "source": [
    "### List 1"
   ]
  },
  {
   "cell_type": "markdown",
   "metadata": {},
   "source": [
    "Below we have created a list that stores total compensation that has value less than 10000."
   ]
  },
  {
   "cell_type": "code",
   "execution_count": 13,
   "metadata": {},
   "outputs": [],
   "source": [
    "l1 <- list(\"select count(\\\"Organization.Group\\\") from jobs where \\\"Organization.Group\\\" = 'Public Protection'\")"
   ]
  },
  {
   "cell_type": "markdown",
   "metadata": {},
   "source": [
    "Displaying this vector with such a large number of values slows down the kernel. "
   ]
  },
  {
   "cell_type": "markdown",
   "metadata": {},
   "source": [
    "### List 2"
   ]
  },
  {
   "cell_type": "markdown",
   "metadata": {},
   "source": [
    "Below we have created a list that stores total compensation that has value between 10000 and 20000."
   ]
  },
  {
   "cell_type": "code",
   "execution_count": null,
   "metadata": {},
   "outputs": [],
   "source": [
    "l2 <- list(jobs$Total.Compensation > 10000 | jobs$Total.Compensation <= 20000 )"
   ]
  },
  {
   "cell_type": "markdown",
   "metadata": {},
   "source": [
    "Displaying this vector with such a large number of values slows down the kernel. "
   ]
  },
  {
   "cell_type": "markdown",
   "metadata": {},
   "source": [
    "### List 3"
   ]
  },
  {
   "cell_type": "markdown",
   "metadata": {},
   "source": [
    "Below we have created a list that stores total compensation that has value between 20000 and 50000."
   ]
  },
  {
   "cell_type": "code",
   "execution_count": null,
   "metadata": {},
   "outputs": [],
   "source": [
    "l3 <- list(jobs$Total.Compensation > 20000 | jobs$Total.Compensation <= 50000 )"
   ]
  },
  {
   "cell_type": "markdown",
   "metadata": {},
   "source": [
    "Displaying this vector with such a large number of values slows down the kernel. "
   ]
  },
  {
   "cell_type": "markdown",
   "metadata": {},
   "source": [
    "### List 4"
   ]
  },
  {
   "cell_type": "markdown",
   "metadata": {},
   "source": [
    "Below we have created a list that stores total compensation that has value between 50000 and 100000."
   ]
  },
  {
   "cell_type": "code",
   "execution_count": null,
   "metadata": {},
   "outputs": [],
   "source": [
    "l4 <- list(jobs$Total.Compensation > 50000 | jobs$Total.Compensation <= 100000 )"
   ]
  },
  {
   "cell_type": "markdown",
   "metadata": {},
   "source": [
    "Displaying this vector with such a large number of values slows down the kernel. "
   ]
  },
  {
   "cell_type": "markdown",
   "metadata": {},
   "source": [
    "### List 5"
   ]
  },
  {
   "cell_type": "markdown",
   "metadata": {},
   "source": [
    "Below we have created a list that stores total compensation that has value greater than 100000."
   ]
  },
  {
   "cell_type": "code",
   "execution_count": null,
   "metadata": {},
   "outputs": [],
   "source": [
    "l5 <- list(jobs$Total.Compensation > 100000)"
   ]
  },
  {
   "cell_type": "markdown",
   "metadata": {},
   "source": [
    "Displaying this vector with such a large number of values slows down the kernel. "
   ]
  },
  {
   "cell_type": "markdown",
   "metadata": {},
   "source": [
    "## 6. Conditionals\n"
   ]
  },
  {
   "cell_type": "markdown",
   "metadata": {},
   "source": [
    "### Conditional 1"
   ]
  },
  {
   "cell_type": "markdown",
   "metadata": {},
   "source": [
    "Displayed below are the top 6 rows of Year, Organization group and job of employees having salaries less than 500 "
   ]
  },
  {
   "cell_type": "code",
   "execution_count": 16,
   "metadata": {},
   "outputs": [
    {
     "data": {
      "text/html": [
       "<table>\n",
       "<thead><tr><th></th><th scope=col>Year</th><th scope=col>Organization.Group</th><th scope=col>Job</th><th scope=col>Salaries</th></tr></thead>\n",
       "<tbody>\n",
       "\t<tr><th scope=row>10</th><td>2019                                    </td><td>Public Protection                       </td><td>Lieutenant 3                            </td><td>    0.00                                </td></tr>\n",
       "\t<tr><th scope=row>38</th><td>2019                                    </td><td>Public Protection                       </td><td>Police Officer 3                        </td><td>    0.00                                </td></tr>\n",
       "\t<tr><th scope=row>195</th><td>2019                                    </td><td>Public Protection                       </td><td>Captain, Emergency Med Svcs             </td><td>-9942.33                                </td></tr>\n",
       "\t<tr><th scope=row>212</th><td>2019                                    </td><td>Community Health                        </td><td>Health Care Analyst                     </td><td>    0.00                                </td></tr>\n",
       "\t<tr><th scope=row>213</th><td>2019                                                               </td><td>Human Welfare &amp; Neighborhood Development                       </td><td><span style=white-space:pre-wrap>Public Service Trainee     </span></td><td><span style=white-space:pre-wrap>    0.00</span>                   </td></tr>\n",
       "\t<tr><th scope=row>234</th><td>2019                                                               </td><td>Public Works, Transportation &amp; Commerce                        </td><td><span style=white-space:pre-wrap>Sergeant 3                 </span></td><td><span style=white-space:pre-wrap>    0.00</span>                   </td></tr>\n",
       "</tbody>\n",
       "</table>\n"
      ],
      "text/latex": [
       "\\begin{tabular}{r|llll}\n",
       "  & Year & Organization.Group & Job & Salaries\\\\\n",
       "\\hline\n",
       "\t10 & 2019                                     & Public Protection                        & Lieutenant 3                             &     0.00                                \\\\\n",
       "\t38 & 2019                                     & Public Protection                        & Police Officer 3                         &     0.00                                \\\\\n",
       "\t195 & 2019                                     & Public Protection                        & Captain, Emergency Med Svcs              & -9942.33                                \\\\\n",
       "\t212 & 2019                                     & Community Health                         & Health Care Analyst                      &     0.00                                \\\\\n",
       "\t213 & 2019                                       & Human Welfare \\& Neighborhood Development & Public Service Trainee                     &     0.00                                  \\\\\n",
       "\t234 & 2019                                       & Public Works, Transportation \\& Commerce  & Sergeant 3                                 &     0.00                                  \\\\\n",
       "\\end{tabular}\n"
      ],
      "text/markdown": [
       "\n",
       "| <!--/--> | Year | Organization.Group | Job | Salaries |\n",
       "|---|---|---|---|---|\n",
       "| 10 | 2019                                     | Public Protection                        | Lieutenant 3                             |     0.00                                 |\n",
       "| 38 | 2019                                     | Public Protection                        | Police Officer 3                         |     0.00                                 |\n",
       "| 195 | 2019                                     | Public Protection                        | Captain, Emergency Med Svcs              | -9942.33                                 |\n",
       "| 212 | 2019                                     | Community Health                         | Health Care Analyst                      |     0.00                                 |\n",
       "| 213 | 2019                                     | Human Welfare & Neighborhood Development | Public Service Trainee                   |     0.00                                 |\n",
       "| 234 | 2019                                     | Public Works, Transportation & Commerce  | Sergeant 3                               |     0.00                                 |\n",
       "\n"
      ],
      "text/plain": [
       "    Year Organization.Group                       Job                        \n",
       "10  2019 Public Protection                        Lieutenant 3               \n",
       "38  2019 Public Protection                        Police Officer 3           \n",
       "195 2019 Public Protection                        Captain, Emergency Med Svcs\n",
       "212 2019 Community Health                         Health Care Analyst        \n",
       "213 2019 Human Welfare & Neighborhood Development Public Service Trainee     \n",
       "234 2019 Public Works, Transportation & Commerce  Sergeant 3                 \n",
       "    Salaries\n",
       "10      0.00\n",
       "38      0.00\n",
       "195 -9942.33\n",
       "212     0.00\n",
       "213     0.00\n",
       "234     0.00"
      ]
     },
     "metadata": {},
     "output_type": "display_data"
    }
   ],
   "source": [
    "head(jobs[which(jobs$Salaries < 500), c(\"Year\", \"Organization.Group\", \"Job\", \"Salaries\") ])"
   ]
  },
  {
   "cell_type": "markdown",
   "metadata": {},
   "source": [
    "### Conditional 2"
   ]
  },
  {
   "cell_type": "markdown",
   "metadata": {},
   "source": [
    "Here the condition is of jobs having salaries greater than 50000."
   ]
  },
  {
   "cell_type": "code",
   "execution_count": 17,
   "metadata": {},
   "outputs": [
    {
     "data": {
      "text/html": [
       "<table>\n",
       "<thead><tr><th></th><th scope=col>Year</th><th scope=col>Organization.Group</th><th scope=col>Job</th><th scope=col>Salaries</th></tr></thead>\n",
       "<tbody>\n",
       "\t<tr><th scope=row>4</th><td>2019                         </td><td>General City Responsibilities</td><td>Police Officer 3             </td><td>124709.01                    </td></tr>\n",
       "\t<tr><th scope=row>5</th><td>2019                         </td><td>Public Protection            </td><td>Attorney (Civil/Criminal)    </td><td>155489.01                    </td></tr>\n",
       "\t<tr><th scope=row>6</th><td>2019                         </td><td>General City Responsibilities</td><td>Automotive Machinist         </td><td> 69490.84                    </td></tr>\n",
       "\t<tr><th scope=row>7</th><td>2019                         </td><td>General City Responsibilities</td><td>Public SafetyComm Disp       </td><td> 57062.72                    </td></tr>\n",
       "\t<tr><th scope=row>8</th><td>2019                         </td><td>General City Responsibilities</td><td>Transit Operator             </td><td> 74231.85                    </td></tr>\n",
       "\t<tr><th scope=row>11</th><td>2019                         </td><td>General City Responsibilities</td><td>Protective Services Worker   </td><td>105677.00                    </td></tr>\n",
       "</tbody>\n",
       "</table>\n"
      ],
      "text/latex": [
       "\\begin{tabular}{r|llll}\n",
       "  & Year & Organization.Group & Job & Salaries\\\\\n",
       "\\hline\n",
       "\t4 & 2019                          & General City Responsibilities & Police Officer 3              & 124709.01                    \\\\\n",
       "\t5 & 2019                          & Public Protection             & Attorney (Civil/Criminal)     & 155489.01                    \\\\\n",
       "\t6 & 2019                          & General City Responsibilities & Automotive Machinist          &  69490.84                    \\\\\n",
       "\t7 & 2019                          & General City Responsibilities & Public SafetyComm Disp        &  57062.72                    \\\\\n",
       "\t8 & 2019                          & General City Responsibilities & Transit Operator              &  74231.85                    \\\\\n",
       "\t11 & 2019                          & General City Responsibilities & Protective Services Worker    & 105677.00                    \\\\\n",
       "\\end{tabular}\n"
      ],
      "text/markdown": [
       "\n",
       "| <!--/--> | Year | Organization.Group | Job | Salaries |\n",
       "|---|---|---|---|---|\n",
       "| 4 | 2019                          | General City Responsibilities | Police Officer 3              | 124709.01                     |\n",
       "| 5 | 2019                          | Public Protection             | Attorney (Civil/Criminal)     | 155489.01                     |\n",
       "| 6 | 2019                          | General City Responsibilities | Automotive Machinist          |  69490.84                     |\n",
       "| 7 | 2019                          | General City Responsibilities | Public SafetyComm Disp        |  57062.72                     |\n",
       "| 8 | 2019                          | General City Responsibilities | Transit Operator              |  74231.85                     |\n",
       "| 11 | 2019                          | General City Responsibilities | Protective Services Worker    | 105677.00                     |\n",
       "\n"
      ],
      "text/plain": [
       "   Year Organization.Group            Job                        Salaries \n",
       "4  2019 General City Responsibilities Police Officer 3           124709.01\n",
       "5  2019 Public Protection             Attorney (Civil/Criminal)  155489.01\n",
       "6  2019 General City Responsibilities Automotive Machinist        69490.84\n",
       "7  2019 General City Responsibilities Public SafetyComm Disp      57062.72\n",
       "8  2019 General City Responsibilities Transit Operator            74231.85\n",
       "11 2019 General City Responsibilities Protective Services Worker 105677.00"
      ]
     },
     "metadata": {},
     "output_type": "display_data"
    }
   ],
   "source": [
    "head(jobs[which(jobs$Salaries > 50000), c(\"Year\", \"Organization.Group\", \"Job\", \"Salaries\") ])"
   ]
  },
  {
   "cell_type": "markdown",
   "metadata": {},
   "source": [
    "### Conditional 3"
   ]
  },
  {
   "cell_type": "markdown",
   "metadata": {},
   "source": [
    "Here the condition says diplay the mentioned columns and rows having overtime greater than 50000."
   ]
  },
  {
   "cell_type": "code",
   "execution_count": 18,
   "metadata": {},
   "outputs": [
    {
     "data": {
      "text/html": [
       "<table>\n",
       "<thead><tr><th></th><th scope=col>Year</th><th scope=col>Organization.Group</th><th scope=col>Job</th><th scope=col>Overtime</th><th scope=col>Salaries</th></tr></thead>\n",
       "<tbody>\n",
       "\t<tr><th scope=row>4</th><td>2019                         </td><td>General City Responsibilities</td><td>Police Officer 3             </td><td>100499.62                    </td><td>124709.01                    </td></tr>\n",
       "\t<tr><th scope=row>18</th><td>2019                         </td><td>Public Protection            </td><td>Police Officer 2             </td><td> 64423.70                    </td><td>120802.86                    </td></tr>\n",
       "\t<tr><th scope=row>41</th><td>2019                         </td><td>General City Responsibilities</td><td>Police Officer 2             </td><td> 65067.93                    </td><td>119885.26                    </td></tr>\n",
       "\t<tr><th scope=row>64</th><td>2019                         </td><td>Public Protection            </td><td>Incident Support Specialist  </td><td> 59415.53                    </td><td> 94010.25                    </td></tr>\n",
       "\t<tr><th scope=row>67</th><td>2019                         </td><td>General City Responsibilities</td><td>Police Officer 3             </td><td> 81451.69                    </td><td>124685.15                    </td></tr>\n",
       "\t<tr><th scope=row>161</th><td>2019                         </td><td>General City Responsibilities</td><td>Lieutenant, Fire Suppression </td><td> 66468.76                    </td><td>120815.03                    </td></tr>\n",
       "</tbody>\n",
       "</table>\n"
      ],
      "text/latex": [
       "\\begin{tabular}{r|lllll}\n",
       "  & Year & Organization.Group & Job & Overtime & Salaries\\\\\n",
       "\\hline\n",
       "\t4 & 2019                          & General City Responsibilities & Police Officer 3              & 100499.62                     & 124709.01                    \\\\\n",
       "\t18 & 2019                          & Public Protection             & Police Officer 2              &  64423.70                     & 120802.86                    \\\\\n",
       "\t41 & 2019                          & General City Responsibilities & Police Officer 2              &  65067.93                     & 119885.26                    \\\\\n",
       "\t64 & 2019                          & Public Protection             & Incident Support Specialist   &  59415.53                     &  94010.25                    \\\\\n",
       "\t67 & 2019                          & General City Responsibilities & Police Officer 3              &  81451.69                     & 124685.15                    \\\\\n",
       "\t161 & 2019                          & General City Responsibilities & Lieutenant, Fire Suppression  &  66468.76                     & 120815.03                    \\\\\n",
       "\\end{tabular}\n"
      ],
      "text/markdown": [
       "\n",
       "| <!--/--> | Year | Organization.Group | Job | Overtime | Salaries |\n",
       "|---|---|---|---|---|---|\n",
       "| 4 | 2019                          | General City Responsibilities | Police Officer 3              | 100499.62                     | 124709.01                     |\n",
       "| 18 | 2019                          | Public Protection             | Police Officer 2              |  64423.70                     | 120802.86                     |\n",
       "| 41 | 2019                          | General City Responsibilities | Police Officer 2              |  65067.93                     | 119885.26                     |\n",
       "| 64 | 2019                          | Public Protection             | Incident Support Specialist   |  59415.53                     |  94010.25                     |\n",
       "| 67 | 2019                          | General City Responsibilities | Police Officer 3              |  81451.69                     | 124685.15                     |\n",
       "| 161 | 2019                          | General City Responsibilities | Lieutenant, Fire Suppression  |  66468.76                     | 120815.03                     |\n",
       "\n"
      ],
      "text/plain": [
       "    Year Organization.Group            Job                          Overtime \n",
       "4   2019 General City Responsibilities Police Officer 3             100499.62\n",
       "18  2019 Public Protection             Police Officer 2              64423.70\n",
       "41  2019 General City Responsibilities Police Officer 2              65067.93\n",
       "64  2019 Public Protection             Incident Support Specialist   59415.53\n",
       "67  2019 General City Responsibilities Police Officer 3              81451.69\n",
       "161 2019 General City Responsibilities Lieutenant, Fire Suppression  66468.76\n",
       "    Salaries \n",
       "4   124709.01\n",
       "18  120802.86\n",
       "41  119885.26\n",
       "64   94010.25\n",
       "67  124685.15\n",
       "161 120815.03"
      ]
     },
     "metadata": {},
     "output_type": "display_data"
    }
   ],
   "source": [
    "head(jobs[which(jobs$Overtime > 50000), c(\"Year\", \"Organization.Group\", \"Job\", \"Overtime\", \"Salaries\") ])"
   ]
  },
  {
   "cell_type": "markdown",
   "metadata": {},
   "source": [
    "## 7. Loops"
   ]
  },
  {
   "cell_type": "markdown",
   "metadata": {},
   "source": [
    "### Loop 1"
   ]
  },
  {
   "cell_type": "markdown",
   "metadata": {},
   "source": [
    "Here we get the dimensions of out dataset in rows by columns, this dataset has 835307 rows and 22 columns."
   ]
  },
  {
   "cell_type": "code",
   "execution_count": null,
   "metadata": {},
   "outputs": [],
   "source": [
    " for (i in 1:dim(jobs)[1]) {\n",
    "}"
   ]
  },
  {
   "cell_type": "code",
   "execution_count": null,
   "metadata": {},
   "outputs": [],
   "source": [
    "dim(jobs)"
   ]
  },
  {
   "cell_type": "markdown",
   "metadata": {},
   "source": [
    "### Loop 2"
   ]
  },
  {
   "cell_type": "markdown",
   "metadata": {},
   "source": [
    "We create a subset which we then use for looping."
   ]
  },
  {
   "cell_type": "code",
   "execution_count": 13,
   "metadata": {},
   "outputs": [],
   "source": [
    "ss1 <- subset(jobs, select=c(\"Year\", \"Job\", \"Salaries\", \"Total.Compensation\"))"
   ]
  },
  {
   "cell_type": "code",
   "execution_count": 14,
   "metadata": {},
   "outputs": [
    {
     "data": {
      "text/html": [
       "<table>\n",
       "<thead><tr><th scope=col>Year</th><th scope=col>Job</th><th scope=col>Salaries</th><th scope=col>Total.Compensation</th></tr></thead>\n",
       "<tbody>\n",
       "\t<tr><td>2028                     </td><td>Deputy Court Clerk II    </td><td>   674.28                </td><td>   864.81                </td></tr>\n",
       "\t<tr><td>2028                     </td><td>Deputy Court Clerk II    </td><td>   674.28                </td><td>   864.81                </td></tr>\n",
       "\t<tr><td>2028                     </td><td>Deputy Court Clerk II    </td><td>   674.28                </td><td>   864.81                </td></tr>\n",
       "\t<tr><td>2019                     </td><td>Police Officer 3         </td><td>124709.01                </td><td>286685.97                </td></tr>\n",
       "\t<tr><td>2019                     </td><td>Attorney (Civil/Criminal)</td><td>155489.01                </td><td>226315.84                </td></tr>\n",
       "\t<tr><td>2019                     </td><td>Automotive Machinist     </td><td> 69490.84                </td><td>166377.84                </td></tr>\n",
       "\t<tr><td>2019                     </td><td>Public SafetyComm Disp   </td><td> 57062.72                </td><td> 97952.33                </td></tr>\n",
       "\t<tr><td>2019                     </td><td>Transit Operator         </td><td> 74231.85                </td><td>152525.08                </td></tr>\n",
       "\t<tr><td>2019                     </td><td>Nursing Supervisor       </td><td> 22348.10                </td><td> 35363.75                </td></tr>\n",
       "\t<tr><td>2019                     </td><td>Lieutenant 3             </td><td>     0.00                </td><td>  2911.35                </td></tr>\n",
       "</tbody>\n",
       "</table>\n"
      ],
      "text/latex": [
       "\\begin{tabular}{r|llll}\n",
       " Year & Job & Salaries & Total.Compensation\\\\\n",
       "\\hline\n",
       "\t 2028                      & Deputy Court Clerk II     &    674.28                 &    864.81                \\\\\n",
       "\t 2028                      & Deputy Court Clerk II     &    674.28                 &    864.81                \\\\\n",
       "\t 2028                      & Deputy Court Clerk II     &    674.28                 &    864.81                \\\\\n",
       "\t 2019                      & Police Officer 3          & 124709.01                 & 286685.97                \\\\\n",
       "\t 2019                      & Attorney (Civil/Criminal) & 155489.01                 & 226315.84                \\\\\n",
       "\t 2019                      & Automotive Machinist      &  69490.84                 & 166377.84                \\\\\n",
       "\t 2019                      & Public SafetyComm Disp    &  57062.72                 &  97952.33                \\\\\n",
       "\t 2019                      & Transit Operator          &  74231.85                 & 152525.08                \\\\\n",
       "\t 2019                      & Nursing Supervisor        &  22348.10                 &  35363.75                \\\\\n",
       "\t 2019                      & Lieutenant 3              &      0.00                 &   2911.35                \\\\\n",
       "\\end{tabular}\n"
      ],
      "text/markdown": [
       "\n",
       "| Year | Job | Salaries | Total.Compensation |\n",
       "|---|---|---|---|\n",
       "| 2028                      | Deputy Court Clerk II     |    674.28                 |    864.81                 |\n",
       "| 2028                      | Deputy Court Clerk II     |    674.28                 |    864.81                 |\n",
       "| 2028                      | Deputy Court Clerk II     |    674.28                 |    864.81                 |\n",
       "| 2019                      | Police Officer 3          | 124709.01                 | 286685.97                 |\n",
       "| 2019                      | Attorney (Civil/Criminal) | 155489.01                 | 226315.84                 |\n",
       "| 2019                      | Automotive Machinist      |  69490.84                 | 166377.84                 |\n",
       "| 2019                      | Public SafetyComm Disp    |  57062.72                 |  97952.33                 |\n",
       "| 2019                      | Transit Operator          |  74231.85                 | 152525.08                 |\n",
       "| 2019                      | Nursing Supervisor        |  22348.10                 |  35363.75                 |\n",
       "| 2019                      | Lieutenant 3              |      0.00                 |   2911.35                 |\n",
       "\n"
      ],
      "text/plain": [
       "   Year Job                       Salaries  Total.Compensation\n",
       "1  2028 Deputy Court Clerk II        674.28    864.81         \n",
       "2  2028 Deputy Court Clerk II        674.28    864.81         \n",
       "3  2028 Deputy Court Clerk II        674.28    864.81         \n",
       "4  2019 Police Officer 3          124709.01 286685.97         \n",
       "5  2019 Attorney (Civil/Criminal) 155489.01 226315.84         \n",
       "6  2019 Automotive Machinist       69490.84 166377.84         \n",
       "7  2019 Public SafetyComm Disp     57062.72  97952.33         \n",
       "8  2019 Transit Operator           74231.85 152525.08         \n",
       "9  2019 Nursing Supervisor         22348.10  35363.75         \n",
       "10 2019 Lieutenant 3                   0.00   2911.35         "
      ]
     },
     "metadata": {},
     "output_type": "display_data"
    }
   ],
   "source": [
    "head(ss1, n=10)"
   ]
  },
  {
   "cell_type": "markdown",
   "metadata": {},
   "source": [
    "The below loop is for the values in the Total compensation column being less than or equal to 1000."
   ]
  },
  {
   "cell_type": "code",
   "execution_count": null,
   "metadata": {},
   "outputs": [],
   "source": [
    "sum <- 0\n",
    "for (i in 1:nrow(ss1)){\n",
    "    if(ss1$Total.Compensation[i] <= 1000){\n",
    "        sum <- sum + 1\n",
    "    }\n",
    "   \n",
    "} "
   ]
  },
  {
   "cell_type": "markdown",
   "metadata": {},
   "source": [
    "### Loop 3"
   ]
  },
  {
   "cell_type": "markdown",
   "metadata": {},
   "source": [
    "The below loop is for the values in the Salaries column being less than or equal to 100."
   ]
  },
  {
   "cell_type": "code",
   "execution_count": null,
   "metadata": {},
   "outputs": [],
   "source": [
    "sum <- 0\n",
    "for (i in 1:nrow(ss1)){\n",
    "    if(ss1$Salaries[i] <= 100){\n",
    "        sum <- sum + 1\n",
    "    }\n",
    "   \n",
    "} "
   ]
  },
  {
   "cell_type": "markdown",
   "metadata": {},
   "source": [
    "## 8. Summary"
   ]
  },
  {
   "cell_type": "markdown",
   "metadata": {},
   "source": [
    "Looking at the above analysis we learn that there are a few groups of departments that get less than normal salary and some that do not get paid on time. Also the retirment plan, health and dental insurance amount are not equal for all and some do not even get these benefits. The margin between the different job types and the salaries or even within a department is large.   "
   ]
  },
  {
   "cell_type": "markdown",
   "metadata": {},
   "source": [
    "## 9. Recommendations"
   ]
  },
  {
   "cell_type": "markdown",
   "metadata": {},
   "source": [
    "After analysis we can say that the income in the city does not do justice to certain deparments of job types. There need to be some standards and rules in place that do not deprive any employee of the salary and benefits they deserve. The San Francisco Chronicle newspaper should highlight the departments that do not get paid well and also discuss the overtime wages, retirement plan and the health insurance benefits that employees deserver but not all receive. "
   ]
  }
 ],
 "metadata": {
  "kernelspec": {
   "display_name": "R",
   "language": "R",
   "name": "ir"
  },
  "language_info": {
   "codemirror_mode": "r",
   "file_extension": ".r",
   "mimetype": "text/x-r-source",
   "name": "R",
   "pygments_lexer": "r",
   "version": "3.6.1"
  }
 },
 "nbformat": 4,
 "nbformat_minor": 2
}
